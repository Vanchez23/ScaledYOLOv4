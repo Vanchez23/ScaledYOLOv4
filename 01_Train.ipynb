{
 "cells": [
  {
   "cell_type": "code",
   "execution_count": null,
   "id": "3092c461-fabf-4378-a9e4-0aaf83ca1972",
   "metadata": {},
   "outputs": [],
   "source": [
    "!python train.py --device 0 --batch-size 16 --data coco.yaml --cfg yolov4-csp.cfg --weights '' --name yolov4-csp"
   ]
  },
  {
   "cell_type": "code",
   "execution_count": null,
   "id": "b6c69844-76b0-4ddf-a4e6-b1e10d913d8e",
   "metadata": {},
   "outputs": [],
   "source": [
    "cfg = {'project': 'makerere_scaled_yolov4',\n",
    "       'save_code': True,\n",
    "       'tags': [],\n",
    "       'notes': '',\n",
    "       'name': '',\n",
    "       'dir': '',\n",
    "       'config': ''}"
   ]
  },
  {
   "cell_type": "code",
   "execution_count": null,
   "id": "236656a2-1040-4d6a-970d-362243e7c936",
   "metadata": {},
   "outputs": [],
   "source": []
  }
 ],
 "metadata": {
  "kernelspec": {
   "display_name": "Python 3 (ipykernel)",
   "language": "python",
   "name": "python3"
  },
  "language_info": {
   "codemirror_mode": {
    "name": "ipython",
    "version": 3
   },
   "file_extension": ".py",
   "mimetype": "text/x-python",
   "name": "python",
   "nbconvert_exporter": "python",
   "pygments_lexer": "ipython3",
   "version": "3.8.10"
  }
 },
 "nbformat": 4,
 "nbformat_minor": 5
}
